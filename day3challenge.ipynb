{
  "nbformat": 4,
  "nbformat_minor": 0,
  "metadata": {
    "colab": {
      "provenance": []
    },
    "kernelspec": {
      "name": "python3",
      "display_name": "Python 3"
    },
    "language_info": {
      "name": "python"
    }
  },
  "cells": [
    {
      "cell_type": "code",
      "execution_count": 7,
      "metadata": {
        "id": "oKXv2QCipiZY"
      },
      "outputs": [],
      "source": [
        "%load_ext sql"
      ]
    },
    {
      "cell_type": "code",
      "source": [
        "%sql sqlite:///ABC_DATA.db"
      ],
      "metadata": {
        "id": "FhgOWRMBpnrE"
      },
      "execution_count": 8,
      "outputs": []
    },
    {
      "cell_type": "code",
      "source": [
        "%%sql CREATE TABLE customers(\n",
        "customer_id INT,\n",
        "first_name VARCHAR(30),\n",
        "last_name VARCHAR(30),\n",
        "email VARCHAR(50)\n",
        ");"
      ],
      "metadata": {
        "colab": {
          "base_uri": "https://localhost:8080/"
        },
        "id": "U72Clo3-pnu2",
        "outputId": "26ad33e3-8b50-4ed8-e85a-39f96093f2b4"
      },
      "execution_count": 9,
      "outputs": [
        {
          "output_type": "stream",
          "name": "stdout",
          "text": [
            " * sqlite:///ABC_DATA.db\n",
            "Done.\n"
          ]
        },
        {
          "output_type": "execute_result",
          "data": {
            "text/plain": [
              "[]"
            ]
          },
          "metadata": {},
          "execution_count": 9
        }
      ]
    },
    {
      "cell_type": "code",
      "source": [
        "%%sql CREATE TABLE products(\n",
        "  product_id INT,\n",
        "  product_name VARCHAR(50),\n",
        "  price DECIMAL\n",
        ");"
      ],
      "metadata": {
        "colab": {
          "base_uri": "https://localhost:8080/"
        },
        "id": "R7hPgBYhpnzr",
        "outputId": "942abbfc-a378-4940-a1e3-5bff4e7b0ba4"
      },
      "execution_count": 10,
      "outputs": [
        {
          "output_type": "stream",
          "name": "stdout",
          "text": [
            " * sqlite:///ABC_DATA.db\n",
            "Done.\n"
          ]
        },
        {
          "output_type": "execute_result",
          "data": {
            "text/plain": [
              "[]"
            ]
          },
          "metadata": {},
          "execution_count": 10
        }
      ]
    },
    {
      "cell_type": "code",
      "source": [
        "%%sql CREATE TABLE orders(\n",
        "    order_id INT,\n",
        "    customer_id INT,\n",
        "    order_date DATE\n",
        ");"
      ],
      "metadata": {
        "colab": {
          "base_uri": "https://localhost:8080/"
        },
        "id": "9R-fjUR2pn3i",
        "outputId": "d78fd28c-ac79-401c-c0ee-15cbb5bf9ca8"
      },
      "execution_count": 11,
      "outputs": [
        {
          "output_type": "stream",
          "name": "stdout",
          "text": [
            " * sqlite:///ABC_DATA.db\n",
            "Done.\n"
          ]
        },
        {
          "output_type": "execute_result",
          "data": {
            "text/plain": [
              "[]"
            ]
          },
          "metadata": {},
          "execution_count": 11
        }
      ]
    },
    {
      "cell_type": "code",
      "source": [
        "%%sql CREATE TABLE order_items(\n",
        "    order_id INT,\n",
        "    product_id INT,\n",
        "    quantity INT\n",
        ");"
      ],
      "metadata": {
        "colab": {
          "base_uri": "https://localhost:8080/"
        },
        "id": "4LqHvt8jxznO",
        "outputId": "d34f25da-6c43-4611-d1cc-b85da5ac993c"
      },
      "execution_count": 12,
      "outputs": [
        {
          "output_type": "stream",
          "name": "stdout",
          "text": [
            " * sqlite:///ABC_DATA.db\n",
            "Done.\n"
          ]
        },
        {
          "output_type": "execute_result",
          "data": {
            "text/plain": [
              "[]"
            ]
          },
          "metadata": {},
          "execution_count": 12
        }
      ]
    },
    {
      "cell_type": "code",
      "source": [
        "%%sql INSERT INTO customers VALUES\n",
        "(1,'Joe','Doe','johndoe@email.com'),\n",
        "(2, 'Jane', 'Smith', 'janesmith@email.com'),\n",
        "(3, 'Bob', 'Johnson', 'bobjohnson@email.com'),\n",
        "(4, 'Alice', 'Brown', 'alicebrown@email.com'),\n",
        "(5, 'Charlie', 'Davis', 'charliedavis@email.com'),\n",
        "(6, 'Eva', 'Fisher', 'evafisher@email.com'),\n",
        "(7, 'George', 'Harris', 'georgeharris@email.com'),\n",
        "(8, 'Ivy', 'Jones', 'ivyjones@email.com'),\n",
        "(9, 'Kevin', 'Miller', 'kevinmiller@email.com'),\n",
        "(10, 'Lily', 'Nelson', 'lilynelson@email.com'),\n",
        "(11, 'Oliver', 'Patterson', 'oliverpatterson@email.com'),\n",
        "(12, 'Quinn', 'Roberts', 'quinnroberts@email.com'),\n",
        "(13, 'Sophia', 'Thomas', 'sophiathomas@email.com');"
      ],
      "metadata": {
        "colab": {
          "base_uri": "https://localhost:8080/"
        },
        "id": "_77SJpokxzs9",
        "outputId": "6d5fb99b-37a8-4f8d-a53c-e29ee6fe4f72"
      },
      "execution_count": 13,
      "outputs": [
        {
          "output_type": "stream",
          "name": "stdout",
          "text": [
            " * sqlite:///ABC_DATA.db\n",
            "13 rows affected.\n"
          ]
        },
        {
          "output_type": "execute_result",
          "data": {
            "text/plain": [
              "[]"
            ]
          },
          "metadata": {},
          "execution_count": 13
        }
      ]
    },
    {
      "cell_type": "code",
      "source": [
        "%%sql INSERT INTO products VALUES\n",
        "    (1, 'Product A', 10.00),\n",
        "    (2, 'Product B', 15.00),\n",
        "    (3, 'Product C', 20.00),\n",
        "    (4, 'Product D', 25.00),\n",
        "    (5, 'Product E', 30.00),\n",
        "    (6, 'Product F', 35.00),\n",
        "    (7, 'Product G', 40.00),\n",
        "    (8, 'Product H', 45.00),\n",
        "    (9, 'Product I', 50.00),\n",
        "    (10, 'Product J', 55.00),\n",
        "    (11, 'Product K', 60.00),\n",
        "    (12, 'Product L', 65.00),\n",
        "    (13, 'Product M', 70.00);"
      ],
      "metadata": {
        "colab": {
          "base_uri": "https://localhost:8080/"
        },
        "id": "jMamKM0X0-8l",
        "outputId": "09084781-62b1-4b5b-e55f-77bfcdf0a8d1"
      },
      "execution_count": 14,
      "outputs": [
        {
          "output_type": "stream",
          "name": "stdout",
          "text": [
            " * sqlite:///ABC_DATA.db\n",
            "13 rows affected.\n"
          ]
        },
        {
          "output_type": "execute_result",
          "data": {
            "text/plain": [
              "[]"
            ]
          },
          "metadata": {},
          "execution_count": 14
        }
      ]
    },
    {
      "cell_type": "code",
      "source": [
        "%%sql INSERT INTO orders VALUES\n",
        "    (1, 1, '2023-05-01'),\n",
        "    (2, 2, '2023-05-02'),\n",
        "    (3, 3, '2023-05-03'),\n",
        "    (4, 1, '2023-05-04'),\n",
        "    (5, 2, '2023-05-05'),\n",
        "    (6, 3, '2023-05-06'),\n",
        "    (7, 4, '2023-05-07'),\n",
        "    (8, 5, '2023-05-08'),\n",
        "    (9, 6, '2023-05-09'),\n",
        "    (10, 7, '2023-05-10'),\n",
        "    (11, 8, '2023-05-11'),\n",
        "    (12, 9, '2023-05-12'),\n",
        "    (13, 10, '2023-05-13'),\n",
        "    (14, 11, '2023-05-14'),\n",
        "    (15, 12, '2023-05-15'),\n",
        "    (16, 13, '2023-05-16');"
      ],
      "metadata": {
        "colab": {
          "base_uri": "https://localhost:8080/"
        },
        "id": "vMTkD-Opx0LZ",
        "outputId": "70ac81f3-39a5-41f0-e918-c3c373ac290e"
      },
      "execution_count": 15,
      "outputs": [
        {
          "output_type": "stream",
          "name": "stdout",
          "text": [
            " * sqlite:///ABC_DATA.db\n",
            "16 rows affected.\n"
          ]
        },
        {
          "output_type": "execute_result",
          "data": {
            "text/plain": [
              "[]"
            ]
          },
          "metadata": {},
          "execution_count": 15
        }
      ]
    },
    {
      "cell_type": "code",
      "source": [
        "%%sql INSERT INTO order_items VALUES\n",
        "    (1, 1, 2),\n",
        "    (1, 2, 1),\n",
        "    (2, 2, 1),\n",
        "    (2, 3, 3),\n",
        "    (3, 1, 1),\n",
        "    (3, 3, 2),\n",
        "    (4, 2, 4),\n",
        "    (4, 3, 1),\n",
        "    (5, 1, 1),\n",
        "    (5, 3, 2),\n",
        "    (6, 2, 3),\n",
        "    (6, 1, 1),\n",
        "    (7, 4, 1),\n",
        "    (7, 5, 2),\n",
        "    (8, 6, 3),\n",
        "    (8, 7, 1),\n",
        "    (9, 8, 2),\n",
        "    (9, 9, 1),\n",
        "    (10, 10, 3),\n",
        "    (10, 11, 2),\n",
        "    (11, 12, 1),\n",
        "    (11, 13, 3),\n",
        "    (12, 4, 2),\n",
        "    (12, 5, 1),\n",
        "    (13, 6, 3),\n",
        "    (13, 7, 2),\n",
        "    (14, 8, 1),\n",
        "    (14, 9, 2),\n",
        "    (15, 10, 3),\n",
        "    (15, 11, 1),\n",
        "    (16, 12, 2),\n",
        "    (16, 13, 3);"
      ],
      "metadata": {
        "colab": {
          "base_uri": "https://localhost:8080/"
        },
        "id": "acKJtUbax0Sa",
        "outputId": "895c5f59-a841-4b6e-eb26-dad96773ab1a"
      },
      "execution_count": 16,
      "outputs": [
        {
          "output_type": "stream",
          "name": "stdout",
          "text": [
            " * sqlite:///ABC_DATA.db\n",
            "32 rows affected.\n"
          ]
        },
        {
          "output_type": "execute_result",
          "data": {
            "text/plain": [
              "[]"
            ]
          },
          "metadata": {},
          "execution_count": 16
        }
      ]
    },
    {
      "cell_type": "code",
      "source": [
        "%sql SELECT * FROM customers;"
      ],
      "metadata": {
        "colab": {
          "base_uri": "https://localhost:8080/",
          "height": 353
        },
        "id": "NSAR_Afty3xi",
        "outputId": "d600961d-2443-481a-8514-9b231f1f54cf"
      },
      "execution_count": 17,
      "outputs": [
        {
          "output_type": "stream",
          "name": "stdout",
          "text": [
            " * sqlite:///ABC_DATA.db\n",
            "Done.\n"
          ]
        },
        {
          "output_type": "execute_result",
          "data": {
            "text/plain": [
              "[(1, 'Joe', 'Doe', 'johndoe@email.com'),\n",
              " (2, 'Jane', 'Smith', 'janesmith@email.com'),\n",
              " (3, 'Bob', 'Johnson', 'bobjohnson@email.com'),\n",
              " (4, 'Alice', 'Brown', 'alicebrown@email.com'),\n",
              " (5, 'Charlie', 'Davis', 'charliedavis@email.com'),\n",
              " (6, 'Eva', 'Fisher', 'evafisher@email.com'),\n",
              " (7, 'George', 'Harris', 'georgeharris@email.com'),\n",
              " (8, 'Ivy', 'Jones', 'ivyjones@email.com'),\n",
              " (9, 'Kevin', 'Miller', 'kevinmiller@email.com'),\n",
              " (10, 'Lily', 'Nelson', 'lilynelson@email.com'),\n",
              " (11, 'Oliver', 'Patterson', 'oliverpatterson@email.com'),\n",
              " (12, 'Quinn', 'Roberts', 'quinnroberts@email.com'),\n",
              " (13, 'Sophia', 'Thomas', 'sophiathomas@email.com')]"
            ],
            "text/html": [
              "<table>\n",
              "    <thead>\n",
              "        <tr>\n",
              "            <th>customer_id</th>\n",
              "            <th>first_name</th>\n",
              "            <th>last_name</th>\n",
              "            <th>email</th>\n",
              "        </tr>\n",
              "    </thead>\n",
              "    <tbody>\n",
              "        <tr>\n",
              "            <td>1</td>\n",
              "            <td>Joe</td>\n",
              "            <td>Doe</td>\n",
              "            <td>johndoe@email.com</td>\n",
              "        </tr>\n",
              "        <tr>\n",
              "            <td>2</td>\n",
              "            <td>Jane</td>\n",
              "            <td>Smith</td>\n",
              "            <td>janesmith@email.com</td>\n",
              "        </tr>\n",
              "        <tr>\n",
              "            <td>3</td>\n",
              "            <td>Bob</td>\n",
              "            <td>Johnson</td>\n",
              "            <td>bobjohnson@email.com</td>\n",
              "        </tr>\n",
              "        <tr>\n",
              "            <td>4</td>\n",
              "            <td>Alice</td>\n",
              "            <td>Brown</td>\n",
              "            <td>alicebrown@email.com</td>\n",
              "        </tr>\n",
              "        <tr>\n",
              "            <td>5</td>\n",
              "            <td>Charlie</td>\n",
              "            <td>Davis</td>\n",
              "            <td>charliedavis@email.com</td>\n",
              "        </tr>\n",
              "        <tr>\n",
              "            <td>6</td>\n",
              "            <td>Eva</td>\n",
              "            <td>Fisher</td>\n",
              "            <td>evafisher@email.com</td>\n",
              "        </tr>\n",
              "        <tr>\n",
              "            <td>7</td>\n",
              "            <td>George</td>\n",
              "            <td>Harris</td>\n",
              "            <td>georgeharris@email.com</td>\n",
              "        </tr>\n",
              "        <tr>\n",
              "            <td>8</td>\n",
              "            <td>Ivy</td>\n",
              "            <td>Jones</td>\n",
              "            <td>ivyjones@email.com</td>\n",
              "        </tr>\n",
              "        <tr>\n",
              "            <td>9</td>\n",
              "            <td>Kevin</td>\n",
              "            <td>Miller</td>\n",
              "            <td>kevinmiller@email.com</td>\n",
              "        </tr>\n",
              "        <tr>\n",
              "            <td>10</td>\n",
              "            <td>Lily</td>\n",
              "            <td>Nelson</td>\n",
              "            <td>lilynelson@email.com</td>\n",
              "        </tr>\n",
              "        <tr>\n",
              "            <td>11</td>\n",
              "            <td>Oliver</td>\n",
              "            <td>Patterson</td>\n",
              "            <td>oliverpatterson@email.com</td>\n",
              "        </tr>\n",
              "        <tr>\n",
              "            <td>12</td>\n",
              "            <td>Quinn</td>\n",
              "            <td>Roberts</td>\n",
              "            <td>quinnroberts@email.com</td>\n",
              "        </tr>\n",
              "        <tr>\n",
              "            <td>13</td>\n",
              "            <td>Sophia</td>\n",
              "            <td>Thomas</td>\n",
              "            <td>sophiathomas@email.com</td>\n",
              "        </tr>\n",
              "    </tbody>\n",
              "</table>"
            ]
          },
          "metadata": {},
          "execution_count": 17
        }
      ]
    },
    {
      "cell_type": "code",
      "source": [
        "%sql SELECT * FROM products;"
      ],
      "metadata": {
        "colab": {
          "base_uri": "https://localhost:8080/",
          "height": 353
        },
        "id": "v-9YTIZ4y33R",
        "outputId": "c233f132-29b1-4187-81fb-bf299afadeab"
      },
      "execution_count": 18,
      "outputs": [
        {
          "output_type": "stream",
          "name": "stdout",
          "text": [
            " * sqlite:///ABC_DATA.db\n",
            "Done.\n"
          ]
        },
        {
          "output_type": "execute_result",
          "data": {
            "text/plain": [
              "[(1, 'Product A', 10),\n",
              " (2, 'Product B', 15),\n",
              " (3, 'Product C', 20),\n",
              " (4, 'Product D', 25),\n",
              " (5, 'Product E', 30),\n",
              " (6, 'Product F', 35),\n",
              " (7, 'Product G', 40),\n",
              " (8, 'Product H', 45),\n",
              " (9, 'Product I', 50),\n",
              " (10, 'Product J', 55),\n",
              " (11, 'Product K', 60),\n",
              " (12, 'Product L', 65),\n",
              " (13, 'Product M', 70)]"
            ],
            "text/html": [
              "<table>\n",
              "    <thead>\n",
              "        <tr>\n",
              "            <th>product_id</th>\n",
              "            <th>product_name</th>\n",
              "            <th>price</th>\n",
              "        </tr>\n",
              "    </thead>\n",
              "    <tbody>\n",
              "        <tr>\n",
              "            <td>1</td>\n",
              "            <td>Product A</td>\n",
              "            <td>10</td>\n",
              "        </tr>\n",
              "        <tr>\n",
              "            <td>2</td>\n",
              "            <td>Product B</td>\n",
              "            <td>15</td>\n",
              "        </tr>\n",
              "        <tr>\n",
              "            <td>3</td>\n",
              "            <td>Product C</td>\n",
              "            <td>20</td>\n",
              "        </tr>\n",
              "        <tr>\n",
              "            <td>4</td>\n",
              "            <td>Product D</td>\n",
              "            <td>25</td>\n",
              "        </tr>\n",
              "        <tr>\n",
              "            <td>5</td>\n",
              "            <td>Product E</td>\n",
              "            <td>30</td>\n",
              "        </tr>\n",
              "        <tr>\n",
              "            <td>6</td>\n",
              "            <td>Product F</td>\n",
              "            <td>35</td>\n",
              "        </tr>\n",
              "        <tr>\n",
              "            <td>7</td>\n",
              "            <td>Product G</td>\n",
              "            <td>40</td>\n",
              "        </tr>\n",
              "        <tr>\n",
              "            <td>8</td>\n",
              "            <td>Product H</td>\n",
              "            <td>45</td>\n",
              "        </tr>\n",
              "        <tr>\n",
              "            <td>9</td>\n",
              "            <td>Product I</td>\n",
              "            <td>50</td>\n",
              "        </tr>\n",
              "        <tr>\n",
              "            <td>10</td>\n",
              "            <td>Product J</td>\n",
              "            <td>55</td>\n",
              "        </tr>\n",
              "        <tr>\n",
              "            <td>11</td>\n",
              "            <td>Product K</td>\n",
              "            <td>60</td>\n",
              "        </tr>\n",
              "        <tr>\n",
              "            <td>12</td>\n",
              "            <td>Product L</td>\n",
              "            <td>65</td>\n",
              "        </tr>\n",
              "        <tr>\n",
              "            <td>13</td>\n",
              "            <td>Product M</td>\n",
              "            <td>70</td>\n",
              "        </tr>\n",
              "    </tbody>\n",
              "</table>"
            ]
          },
          "metadata": {},
          "execution_count": 18
        }
      ]
    },
    {
      "cell_type": "code",
      "source": [
        "%sql SELECT * FROM orders;"
      ],
      "metadata": {
        "colab": {
          "base_uri": "https://localhost:8080/",
          "height": 417
        },
        "id": "r6VfEyway3_g",
        "outputId": "543d8f1a-67b7-4e25-e000-e0228d28b6aa"
      },
      "execution_count": 19,
      "outputs": [
        {
          "output_type": "stream",
          "name": "stdout",
          "text": [
            " * sqlite:///ABC_DATA.db\n",
            "Done.\n"
          ]
        },
        {
          "output_type": "execute_result",
          "data": {
            "text/plain": [
              "[(1, 1, '2023-05-01'),\n",
              " (2, 2, '2023-05-02'),\n",
              " (3, 3, '2023-05-03'),\n",
              " (4, 1, '2023-05-04'),\n",
              " (5, 2, '2023-05-05'),\n",
              " (6, 3, '2023-05-06'),\n",
              " (7, 4, '2023-05-07'),\n",
              " (8, 5, '2023-05-08'),\n",
              " (9, 6, '2023-05-09'),\n",
              " (10, 7, '2023-05-10'),\n",
              " (11, 8, '2023-05-11'),\n",
              " (12, 9, '2023-05-12'),\n",
              " (13, 10, '2023-05-13'),\n",
              " (14, 11, '2023-05-14'),\n",
              " (15, 12, '2023-05-15'),\n",
              " (16, 13, '2023-05-16')]"
            ],
            "text/html": [
              "<table>\n",
              "    <thead>\n",
              "        <tr>\n",
              "            <th>order_id</th>\n",
              "            <th>customer_id</th>\n",
              "            <th>order_date</th>\n",
              "        </tr>\n",
              "    </thead>\n",
              "    <tbody>\n",
              "        <tr>\n",
              "            <td>1</td>\n",
              "            <td>1</td>\n",
              "            <td>2023-05-01</td>\n",
              "        </tr>\n",
              "        <tr>\n",
              "            <td>2</td>\n",
              "            <td>2</td>\n",
              "            <td>2023-05-02</td>\n",
              "        </tr>\n",
              "        <tr>\n",
              "            <td>3</td>\n",
              "            <td>3</td>\n",
              "            <td>2023-05-03</td>\n",
              "        </tr>\n",
              "        <tr>\n",
              "            <td>4</td>\n",
              "            <td>1</td>\n",
              "            <td>2023-05-04</td>\n",
              "        </tr>\n",
              "        <tr>\n",
              "            <td>5</td>\n",
              "            <td>2</td>\n",
              "            <td>2023-05-05</td>\n",
              "        </tr>\n",
              "        <tr>\n",
              "            <td>6</td>\n",
              "            <td>3</td>\n",
              "            <td>2023-05-06</td>\n",
              "        </tr>\n",
              "        <tr>\n",
              "            <td>7</td>\n",
              "            <td>4</td>\n",
              "            <td>2023-05-07</td>\n",
              "        </tr>\n",
              "        <tr>\n",
              "            <td>8</td>\n",
              "            <td>5</td>\n",
              "            <td>2023-05-08</td>\n",
              "        </tr>\n",
              "        <tr>\n",
              "            <td>9</td>\n",
              "            <td>6</td>\n",
              "            <td>2023-05-09</td>\n",
              "        </tr>\n",
              "        <tr>\n",
              "            <td>10</td>\n",
              "            <td>7</td>\n",
              "            <td>2023-05-10</td>\n",
              "        </tr>\n",
              "        <tr>\n",
              "            <td>11</td>\n",
              "            <td>8</td>\n",
              "            <td>2023-05-11</td>\n",
              "        </tr>\n",
              "        <tr>\n",
              "            <td>12</td>\n",
              "            <td>9</td>\n",
              "            <td>2023-05-12</td>\n",
              "        </tr>\n",
              "        <tr>\n",
              "            <td>13</td>\n",
              "            <td>10</td>\n",
              "            <td>2023-05-13</td>\n",
              "        </tr>\n",
              "        <tr>\n",
              "            <td>14</td>\n",
              "            <td>11</td>\n",
              "            <td>2023-05-14</td>\n",
              "        </tr>\n",
              "        <tr>\n",
              "            <td>15</td>\n",
              "            <td>12</td>\n",
              "            <td>2023-05-15</td>\n",
              "        </tr>\n",
              "        <tr>\n",
              "            <td>16</td>\n",
              "            <td>13</td>\n",
              "            <td>2023-05-16</td>\n",
              "        </tr>\n",
              "    </tbody>\n",
              "</table>"
            ]
          },
          "metadata": {},
          "execution_count": 19
        }
      ]
    },
    {
      "cell_type": "code",
      "source": [
        "%sql SELECT * FROM order_items;"
      ],
      "metadata": {
        "colab": {
          "base_uri": "https://localhost:8080/",
          "height": 759
        },
        "id": "L8Kbps86y4Fd",
        "outputId": "78136ced-494b-46d6-887a-e42768233968"
      },
      "execution_count": 20,
      "outputs": [
        {
          "output_type": "stream",
          "name": "stdout",
          "text": [
            " * sqlite:///ABC_DATA.db\n",
            "Done.\n"
          ]
        },
        {
          "output_type": "execute_result",
          "data": {
            "text/plain": [
              "[(1, 1, 2),\n",
              " (1, 2, 1),\n",
              " (2, 2, 1),\n",
              " (2, 3, 3),\n",
              " (3, 1, 1),\n",
              " (3, 3, 2),\n",
              " (4, 2, 4),\n",
              " (4, 3, 1),\n",
              " (5, 1, 1),\n",
              " (5, 3, 2),\n",
              " (6, 2, 3),\n",
              " (6, 1, 1),\n",
              " (7, 4, 1),\n",
              " (7, 5, 2),\n",
              " (8, 6, 3),\n",
              " (8, 7, 1),\n",
              " (9, 8, 2),\n",
              " (9, 9, 1),\n",
              " (10, 10, 3),\n",
              " (10, 11, 2),\n",
              " (11, 12, 1),\n",
              " (11, 13, 3),\n",
              " (12, 4, 2),\n",
              " (12, 5, 1),\n",
              " (13, 6, 3),\n",
              " (13, 7, 2),\n",
              " (14, 8, 1),\n",
              " (14, 9, 2),\n",
              " (15, 10, 3),\n",
              " (15, 11, 1),\n",
              " (16, 12, 2),\n",
              " (16, 13, 3)]"
            ],
            "text/html": [
              "<table>\n",
              "    <thead>\n",
              "        <tr>\n",
              "            <th>order_id</th>\n",
              "            <th>product_id</th>\n",
              "            <th>quantity</th>\n",
              "        </tr>\n",
              "    </thead>\n",
              "    <tbody>\n",
              "        <tr>\n",
              "            <td>1</td>\n",
              "            <td>1</td>\n",
              "            <td>2</td>\n",
              "        </tr>\n",
              "        <tr>\n",
              "            <td>1</td>\n",
              "            <td>2</td>\n",
              "            <td>1</td>\n",
              "        </tr>\n",
              "        <tr>\n",
              "            <td>2</td>\n",
              "            <td>2</td>\n",
              "            <td>1</td>\n",
              "        </tr>\n",
              "        <tr>\n",
              "            <td>2</td>\n",
              "            <td>3</td>\n",
              "            <td>3</td>\n",
              "        </tr>\n",
              "        <tr>\n",
              "            <td>3</td>\n",
              "            <td>1</td>\n",
              "            <td>1</td>\n",
              "        </tr>\n",
              "        <tr>\n",
              "            <td>3</td>\n",
              "            <td>3</td>\n",
              "            <td>2</td>\n",
              "        </tr>\n",
              "        <tr>\n",
              "            <td>4</td>\n",
              "            <td>2</td>\n",
              "            <td>4</td>\n",
              "        </tr>\n",
              "        <tr>\n",
              "            <td>4</td>\n",
              "            <td>3</td>\n",
              "            <td>1</td>\n",
              "        </tr>\n",
              "        <tr>\n",
              "            <td>5</td>\n",
              "            <td>1</td>\n",
              "            <td>1</td>\n",
              "        </tr>\n",
              "        <tr>\n",
              "            <td>5</td>\n",
              "            <td>3</td>\n",
              "            <td>2</td>\n",
              "        </tr>\n",
              "        <tr>\n",
              "            <td>6</td>\n",
              "            <td>2</td>\n",
              "            <td>3</td>\n",
              "        </tr>\n",
              "        <tr>\n",
              "            <td>6</td>\n",
              "            <td>1</td>\n",
              "            <td>1</td>\n",
              "        </tr>\n",
              "        <tr>\n",
              "            <td>7</td>\n",
              "            <td>4</td>\n",
              "            <td>1</td>\n",
              "        </tr>\n",
              "        <tr>\n",
              "            <td>7</td>\n",
              "            <td>5</td>\n",
              "            <td>2</td>\n",
              "        </tr>\n",
              "        <tr>\n",
              "            <td>8</td>\n",
              "            <td>6</td>\n",
              "            <td>3</td>\n",
              "        </tr>\n",
              "        <tr>\n",
              "            <td>8</td>\n",
              "            <td>7</td>\n",
              "            <td>1</td>\n",
              "        </tr>\n",
              "        <tr>\n",
              "            <td>9</td>\n",
              "            <td>8</td>\n",
              "            <td>2</td>\n",
              "        </tr>\n",
              "        <tr>\n",
              "            <td>9</td>\n",
              "            <td>9</td>\n",
              "            <td>1</td>\n",
              "        </tr>\n",
              "        <tr>\n",
              "            <td>10</td>\n",
              "            <td>10</td>\n",
              "            <td>3</td>\n",
              "        </tr>\n",
              "        <tr>\n",
              "            <td>10</td>\n",
              "            <td>11</td>\n",
              "            <td>2</td>\n",
              "        </tr>\n",
              "        <tr>\n",
              "            <td>11</td>\n",
              "            <td>12</td>\n",
              "            <td>1</td>\n",
              "        </tr>\n",
              "        <tr>\n",
              "            <td>11</td>\n",
              "            <td>13</td>\n",
              "            <td>3</td>\n",
              "        </tr>\n",
              "        <tr>\n",
              "            <td>12</td>\n",
              "            <td>4</td>\n",
              "            <td>2</td>\n",
              "        </tr>\n",
              "        <tr>\n",
              "            <td>12</td>\n",
              "            <td>5</td>\n",
              "            <td>1</td>\n",
              "        </tr>\n",
              "        <tr>\n",
              "            <td>13</td>\n",
              "            <td>6</td>\n",
              "            <td>3</td>\n",
              "        </tr>\n",
              "        <tr>\n",
              "            <td>13</td>\n",
              "            <td>7</td>\n",
              "            <td>2</td>\n",
              "        </tr>\n",
              "        <tr>\n",
              "            <td>14</td>\n",
              "            <td>8</td>\n",
              "            <td>1</td>\n",
              "        </tr>\n",
              "        <tr>\n",
              "            <td>14</td>\n",
              "            <td>9</td>\n",
              "            <td>2</td>\n",
              "        </tr>\n",
              "        <tr>\n",
              "            <td>15</td>\n",
              "            <td>10</td>\n",
              "            <td>3</td>\n",
              "        </tr>\n",
              "        <tr>\n",
              "            <td>15</td>\n",
              "            <td>11</td>\n",
              "            <td>1</td>\n",
              "        </tr>\n",
              "        <tr>\n",
              "            <td>16</td>\n",
              "            <td>12</td>\n",
              "            <td>2</td>\n",
              "        </tr>\n",
              "        <tr>\n",
              "            <td>16</td>\n",
              "            <td>13</td>\n",
              "            <td>3</td>\n",
              "        </tr>\n",
              "    </tbody>\n",
              "</table>"
            ]
          },
          "metadata": {},
          "execution_count": 20
        }
      ]
    },
    {
      "cell_type": "code",
      "source": [
        "%%sql\n",
        "SELECT * FROM products\n",
        "WHERE price = (SELECT MAX(price) FROM products);"
      ],
      "metadata": {
        "colab": {
          "base_uri": "https://localhost:8080/",
          "height": 96
        },
        "id": "Nyc14a6dLm88",
        "outputId": "088b594c-6d79-455b-f257-b5c4caef2491"
      },
      "execution_count": 23,
      "outputs": [
        {
          "output_type": "stream",
          "name": "stdout",
          "text": [
            " * sqlite:///ABC_DATA.db\n",
            "Done.\n"
          ]
        },
        {
          "output_type": "execute_result",
          "data": {
            "text/plain": [
              "[(13, 'Product M', 70)]"
            ],
            "text/html": [
              "<table>\n",
              "    <thead>\n",
              "        <tr>\n",
              "            <th>product_id</th>\n",
              "            <th>product_name</th>\n",
              "            <th>price</th>\n",
              "        </tr>\n",
              "    </thead>\n",
              "    <tbody>\n",
              "        <tr>\n",
              "            <td>13</td>\n",
              "            <td>Product M</td>\n",
              "            <td>70</td>\n",
              "        </tr>\n",
              "    </tbody>\n",
              "</table>"
            ]
          },
          "metadata": {},
          "execution_count": 23
        }
      ]
    },
    {
      "cell_type": "code",
      "source": [
        "%%sql\n",
        "SELECT order_id FROM order_items\n",
        "WHERE quantity = (SELECT MAX(quantity) FROM order_items);"
      ],
      "metadata": {
        "colab": {
          "base_uri": "https://localhost:8080/",
          "height": 96
        },
        "id": "-Upm14LOLnJP",
        "outputId": "979c802b-aaf5-495d-d26c-d4ab0a773a97"
      },
      "execution_count": 24,
      "outputs": [
        {
          "output_type": "stream",
          "name": "stdout",
          "text": [
            " * sqlite:///ABC_DATA.db\n",
            "Done.\n"
          ]
        },
        {
          "output_type": "execute_result",
          "data": {
            "text/plain": [
              "[(4,)]"
            ],
            "text/html": [
              "<table>\n",
              "    <thead>\n",
              "        <tr>\n",
              "            <th>order_id</th>\n",
              "        </tr>\n",
              "    </thead>\n",
              "    <tbody>\n",
              "        <tr>\n",
              "            <td>4</td>\n",
              "        </tr>\n",
              "    </tbody>\n",
              "</table>"
            ]
          },
          "metadata": {},
          "execution_count": 24
        }
      ]
    },
    {
      "cell_type": "code",
      "source": [],
      "metadata": {
        "id": "1xYxXVZHLnS1"
      },
      "execution_count": null,
      "outputs": []
    }
  ]
}